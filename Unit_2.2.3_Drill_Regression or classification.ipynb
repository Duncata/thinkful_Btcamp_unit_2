{
 "cells": [
  {
   "cell_type": "markdown",
   "metadata": {},
   "source": [
    "For each of the following situations, decide if you would model using a regression or classification model. Discuss your reasoning with your mentor next time you meet.\n",
    "\n",
    "1. The amount a person will spend on a given site in the next 24 months.\n",
    "2. What color car someone is going to buy.\n",
    "3. How many children a family will have.\n",
    "4. If someone will sign up for a service.\n",
    "5. The number of times someone will get sick in a year.\n",
    "6. The probability someone will get sick in the next month.\n",
    "7. Which medicine will work best for a given patient."
   ]
  },
  {
   "cell_type": "markdown",
   "metadata": {},
   "source": [
    "\n",
    "1. The amount a person will spend on a given site in the next 24 months.\n",
    "    - Regression : have a continuous outcome variable and either on a bounded or unbounded number line. \n",
    "\n",
    "2. What color car someone is going to buy. \n",
    "    - Classification : variable will be categorical and only takes discrete values from within a specified set.\n",
    "\n",
    "3. How many children a family will have.\n",
    "    - Regression : we use regression so that we can get the average output. \n",
    "\n",
    "4. If someone will sign up for a service. \n",
    "    - Classification : variable only takes discrete values, we can use categorical yes or no.\n",
    "\n",
    "5. The number of times someone will get sick in a year. \n",
    "    - Regression: have a continuous outcome variable and either on a bounded or unbounded number line. \n",
    "\n",
    "6. The probability someone will get sick in the next month. \n",
    "    - Regression :  have a continuous outcome variable and implies a relationship between the variables from 0-100% probability.\n",
    "\n",
    "7. Which medicine will work best for a given patient. \n",
    "    - Classification: there is a discrete values of medicines.\n",
    "    \n"
   ]
  },
  {
   "cell_type": "code",
   "execution_count": null,
   "metadata": {},
   "outputs": [],
   "source": []
  },
  {
   "cell_type": "code",
   "execution_count": null,
   "metadata": {},
   "outputs": [],
   "source": []
  },
  {
   "cell_type": "code",
   "execution_count": null,
   "metadata": {},
   "outputs": [],
   "source": []
  }
 ],
 "metadata": {
  "kernelspec": {
   "display_name": "Python 3",
   "language": "python",
   "name": "python3"
  },
  "language_info": {
   "codemirror_mode": {
    "name": "ipython",
    "version": 3
   },
   "file_extension": ".py",
   "mimetype": "text/x-python",
   "name": "python",
   "nbconvert_exporter": "python",
   "pygments_lexer": "ipython3",
   "version": "3.7.1"
  }
 },
 "nbformat": 4,
 "nbformat_minor": 2
}

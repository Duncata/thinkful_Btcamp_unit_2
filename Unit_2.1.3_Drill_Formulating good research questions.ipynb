{
 "cells": [
  {
   "cell_type": "markdown",
   "metadata": {},
   "source": [
    "## Drill: Formulating good research questions\n",
    "Categorize each of the following research questions as \"good\" or \"bad\", and provide alternative formulations for the bad ones. Save your responses in a document of some kind, submit a link below, and discuss your reasoning with your mentor.\n",
    "\n",
    "1. What is the 1994 rate of juvenile delinquency in the U.S.?\n",
    "\n",
    "\n",
    "\n",
    "2. What can we do to reduce juvenile delinquency in the U.S.?\n",
    "3. Does education play a role in reducing juvenile delinquents' return to crime?\n",
    "4. How many customers does AT&T currently serve in Washington, DC?\n",
    "5. What factors lead consumers to choose AT&T over other service providers?\n",
    "6. How can AT&T attract more customers?\n",
    "7. Why did the Challenger Shuttle explode?\n",
    "8. Which genes are associated with increased risk of breast cancer?\n",
    "9. Is it better to read to children at night or in the morning?\n",
    "10. How does Google’s search algorithm work?"
   ]
  },
  {
   "cell_type": "markdown",
   "metadata": {},
   "source": [
    "Drill: Formulating Good Research Questions Categorize each of the following research questions as \"good\" or \"bad\", and provide alternative formulations for the bad ones. Save your responses in a document of some kind, submit a link below, and discuss your reasoning with your mentor. \n",
    " \n",
    "1.  What is the 1994 rate of juvenile delinquency in the U.S.?\n",
    "Bad\n",
    "Alternative question: What is the number of crime commited by age 10-18yrs old in each state?\n",
    " \n",
    "2.  What can we do to reduce juvenile delinquency in the U.S.?\n",
    "Bad\n",
    "Alternative question: What are the reasons most juvenile deliquent have?\n",
    "\n",
    "3.  Does education play a role in reducing juvenile delinquents' return to crime?  \n",
    "bad\n",
    "What are the number of youth age 10-18 in school and out of school youth age 10-18 who are juvenile delinquent? \n",
    "\n",
    "\n",
    "4.  How many customers does AT&T currently serve in Washington, DC?\n",
    "Bad\n",
    "Alternative question: What is the percentage/number of AT&T customer subscribe for phone only, internet only, TV only and package deal(all) in washington, DC?\n",
    " \n",
    "5.  What factors lead consumers to choose AT&T over other service providers? \n",
    "Bad\n",
    "Compare the number of bad and good reviews of AT&T costumer and other service provider?\n",
    " \n",
    "6.  How can AT&T attract more customers? \n",
    "Bad\n",
    "Alternative question: Does sign ups increase after offering 1 GB optic fiber speed for internet?\n",
    "\n",
    " \n",
    "7.  Why did the Challenger Shuttle explode?  \n",
    "Bad\n",
    "Alternative question: What is the percentage of failure of the external tank during testing?\n",
    " \n",
    "8. Which genes are associated with increased risk of breast cancer? \n",
    "Bad\n",
    "Alternative question:Does families with BRCA1 and BRCA2 genes have higher numbers of breast cancer?\n",
    "\n",
    " \n",
    "9. Is it better to read to children at night or in the morning? Bad. Alternate formulation: Among children aged 3-5 years old, does reading a fairy tale at 8am versus reading a fairy tale at 8pm, result in less tantrums, defined as all-out, inconsolable crying over a 3 minute period, throughout the daytime? \n",
    "\n",
    "\n",
    "Bad\n",
    "Alternative question: Interview parents of kids who read to there kids, What do kids prefer when you read them stories? Morning or Evening?\n",
    "\n",
    " \n",
    "10.  How does Google’s search algorithm work? Bad.  I feel that this is not a data science question\n",
    "\n",
    "Bad\n",
    "Alternative question: What is PageRank (PR)?\n"
   ]
  }
 ],
 "metadata": {
  "kernelspec": {
   "display_name": "Python 3",
   "language": "python",
   "name": "python3"
  },
  "language_info": {
   "codemirror_mode": {
    "name": "ipython",
    "version": 3
   },
   "file_extension": ".py",
   "mimetype": "text/x-python",
   "name": "python",
   "nbconvert_exporter": "python",
   "pygments_lexer": "ipython3",
   "version": "3.7.1"
  }
 },
 "nbformat": 4,
 "nbformat_minor": 2
}

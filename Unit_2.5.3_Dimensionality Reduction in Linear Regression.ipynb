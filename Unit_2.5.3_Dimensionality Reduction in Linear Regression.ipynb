{
 "cells": [
  {
   "cell_type": "code",
   "execution_count": 1,
   "metadata": {},
   "outputs": [],
   "source": [
    "import math\n",
    "import warnings\n",
    "\n",
    "from matplotlib import pyplot as plt\n",
    "import numpy as np\n",
    "import pandas as pd\n",
    "import seaborn as sns\n",
    "from sklearn import linear_model\n",
    "from sklearn.cross_decomposition import PLSRegression\n",
    "\n",
    "%matplotlib inline\n",
    "sns.set_style('white')\n",
    "\n",
    "# Suppress annoying harmless error.\n",
    "warnings.filterwarnings(\n",
    "    action=\"ignore\",\n",
    "    module=\"scipy\",\n",
    "    message=\"^internal gelsd\"\n",
    ")"
   ]
  },
  {
   "cell_type": "markdown",
   "metadata": {
    "run_control": {
     "frozen": false,
     "read_only": false
    }
   },
   "source": [
    "## Dimensionality Reduction in Linear Regression\n",
    "\n",
    "Having a lot of features can cause problems. The more features in your regression the more complex the model, and the longer it takes to run.  Variance in the features that is unrelated to the outcome $Y$ may create noise in predictions (especially when that variance is shared among features in multicollinearity), and more features also means more unrelated variance and thus more noise.  Sometimes there may be more predictors than datapoints, leading to negative degrees of freedom and a model that won't run.  For these reasons, data scientists interested solely in building a prediction model (with no interest in interpreting the individual parameters) may turn to dimension reduction methods to simplify their feature space while retaining all the predictive power of the original model.\n",
    "\n",
    "The idea is to reduce a matrix of features $X$ into a matrix with fewer columns $R(X)$ where the expected value of $Y$ given $X$ ($E(Y|X)$) is equal to the expected value of $Y$ given $R(X)$. We say \"expected value\" rather than \"predicted value\" to be consistent with the commonly-used mathematical notation, but the meaning is the same – we want a smaller set of features that will produce the same predicted values for $Y$ as our larger number of features.\n",
    "\n",
    "If this is sounding a lot like PCA, you're right.  The difference is that instead of trying to reduce a set of $X$ into a smaller set $R(X)$ that contains all the variance in $X$, we are trying to reduce a set of $X$ into an $R(X)$ that contains all the variance in $X$ that is shared with $Y$.  \n",
    "\n",
    "\n",
    "## Partial least squares regression\n",
    "\n",
    "We call this method **partial least squares regression**, or \"PLSR\". As in PCA, PLSR is iterative. It first tries to find the vector within the $n$-dimensional space of $X$ with the highest covariance with $y$.  Then it looks for a second vector, perpendicular to the first, that explains the highest covariance with $y$ that remains after accounting for the first vector. This continues for as many components as we permit, up to $n$.\n",
    "\n",
    "SciKit-learn has a function to run PLSR:"
   ]
  },
  {
   "cell_type": "code",
   "execution_count": 2,
   "metadata": {
    "scrolled": true
   },
   "outputs": [
    {
     "data": {
      "image/png": "[encoded data removed]",
      "text/plain": [
       "<Figure size 864x648 with 2 Axes>"
      ]
     },
     "metadata": {
      "needs_background": "light"
     },
     "output_type": "display_data"
    }
   ],
   "source": [
    "# Number of datapoints in outcome.\n",
    "n = 1000\n",
    "\n",
    "# Number of features.\n",
    "p = 10\n",
    "\n",
    "# Create random normally distributed data for parameters.\n",
    "X = np.random.normal(size=n * p).reshape((n, p))\n",
    "\n",
    "# Create normally distributed outcome related to parameters but with noise.\n",
    "y = X[:, 0] + 2 * X[:, 1] + np.random.normal(size=n * 1) + 5\n",
    "\n",
    "\n",
    "\n",
    "# Check out correlations. First column is the outcome.\n",
    "f, ax = plt.subplots(figsize=(12, 9))\n",
    "corrmat = pd.DataFrame(np.insert(X, 0, y, axis=1)).corr()\n",
    "\n",
    "# Draw the heatmap using seaborn.\n",
    "sns.heatmap(corrmat, vmax=.8, square=True)\n",
    "plt.show()"
   ]
  },
  {
   "cell_type": "code",
   "execution_count": 3,
   "metadata": {},
   "outputs": [
    {
     "data": {
      "text/plain": [
       "array([[ 1.03645881,  0.43828619, -0.61694067, ..., -0.31152903,\n",
       "        -0.90480688, -0.20248362],\n",
       "       [-0.07305662,  0.24363268,  0.8721432 , ..., -0.43852316,\n",
       "         0.88201049, -0.98930835],\n",
       "       [ 0.10027526,  0.44357316, -0.33798995, ...,  1.3854575 ,\n",
       "        -0.26555599, -1.06037543],\n",
       "       ...,\n",
       "       [-1.17512987,  0.82079786, -1.74084758, ..., -2.77709243,\n",
       "         1.25858132, -0.60850743],\n",
       "       [-0.68594295, -0.01228055, -0.27399006, ..., -0.41936268,\n",
       "         1.35262194, -0.58310297],\n",
       "       [ 0.68880539,  0.06902507,  1.9274229 , ..., -2.03095343,\n",
       "         0.25333853,  0.67161204]])"
      ]
     },
     "execution_count": 3,
     "metadata": {},
     "output_type": "execute_result"
    }
   ],
   "source": [
    "X"
   ]
  },
  {
   "cell_type": "code",
   "execution_count": 4,
   "metadata": {},
   "outputs": [
    {
     "data": {
      "text/plain": [
       "(1000, 10)"
      ]
     },
     "execution_count": 4,
     "metadata": {},
     "output_type": "execute_result"
    }
   ],
   "source": [
    "X.shape"
   ]
  },
  {
   "cell_type": "code",
   "execution_count": 5,
   "metadata": {
    "scrolled": true
   },
   "outputs": [
    {
     "data": {
      "text/plain": [
       "array([ 6.09611426,  6.85211689,  5.86556104, 11.11910554,  4.41818302,\n",
       "        2.50538667,  2.91669715,  3.4176492 ,  3.93391627,  3.10874444,\n",
       "        5.65338625,  5.4481768 ,  1.17860929,  4.62814632,  8.5240489 ,\n",
       "        6.25568474,  2.02688181,  8.55200389,  1.09581849,  0.2649332 ,\n",
       "        3.76967669,  2.27177841,  7.57741558,  6.95932261,  3.81661543,\n",
       "        2.30050078,  7.63570007,  3.49006717,  3.31901091,  6.12997237,\n",
       "        4.22583466,  3.73809461,  8.59174228,  4.19287054,  3.00640821,\n",
       "        6.01070492, -0.53353552,  4.55417898,  1.6809953 ,  2.03158699,\n",
       "        6.80325053,  3.3307234 ,  7.35084148,  3.22794291,  5.95425524,\n",
       "        5.33112501,  4.96949219,  5.71473705,  2.44311132,  8.69796352,\n",
       "        5.16110397,  4.0360188 ,  4.04211078,  7.91780318,  3.71992749,\n",
       "        5.2157269 ,  5.23229605,  7.93885722,  0.67670762,  4.25567223,\n",
       "        4.86957898,  1.70354962,  3.6917592 ,  7.98072128,  3.99803212,\n",
       "        5.42453545,  5.82252704,  7.82446028,  5.20780036,  4.57123361,\n",
       "        6.36960222,  6.32778137,  5.23303709,  5.76749631,  8.4596258 ,\n",
       "        6.98830485,  5.12892827,  2.98018876,  8.01961496,  5.16735058,\n",
       "        2.96763706,  2.34011787,  4.83474718,  4.16294272,  7.37435939,\n",
       "        7.95336407,  5.01699827,  6.18700137,  2.35220614,  6.34443028,\n",
       "        6.63028102,  8.51325317,  1.8120936 ,  5.62531053,  9.64826602,\n",
       "        5.93819993,  3.58965844,  4.11997775,  3.90212276,  7.31273031,\n",
       "        2.48184716,  5.39335974,  3.85288798,  4.60308763,  5.5546955 ,\n",
       "        4.83399132,  2.55483859,  7.81940668,  1.51411635,  8.84490126,\n",
       "        5.72601085,  8.44992198,  2.5187873 ,  0.89963913,  9.70443032,\n",
       "        4.32427754,  9.34157603,  5.51554866,  5.15375106,  1.04659415,\n",
       "        5.39731529,  7.60546236,  8.23770867,  2.20175757,  9.1318532 ,\n",
       "        6.01668946, 11.42475549,  6.60077395,  7.33650318,  3.80476611,\n",
       "        7.1281754 , 10.02183202, 10.44716425,  7.80341019,  7.6261807 ,\n",
       "        4.77860614,  4.63618526,  8.60510991,  6.39111076,  7.06723601,\n",
       "        4.07813897,  4.81425477,  3.30595231,  2.7975052 ,  9.95332283,\n",
       "        2.23455308,  1.57913451,  3.01992503,  4.84782448,  5.09003896,\n",
       "        4.37093406,  6.73569081,  4.65626942,  6.30507896,  6.21601429,\n",
       "        6.53603608,  7.94650199,  3.83387333, -1.3009947 ,  5.4439056 ,\n",
       "        6.02863259,  6.09343123,  5.63437684,  5.21056457,  7.4046096 ,\n",
       "        6.07196542,  7.46789607,  3.20048571,  2.64656339,  4.73399783,\n",
       "        0.71521776,  1.16235451,  9.08414646,  4.08545337,  4.78868193,\n",
       "        1.79349284,  3.49292784,  6.46925587,  2.78612572,  5.31367783,\n",
       "        5.88014509,  6.29953233, 10.13659978,  1.00517785,  6.52530305,\n",
       "        6.89493555,  8.58174031,  8.06453613,  3.0905055 ,  7.0054651 ,\n",
       "        2.16337186,  6.27916383,  4.37767021,  5.13106293,  9.62148898,\n",
       "        2.08678895,  4.79064632,  4.20460849,  2.79612298, -1.05994553,\n",
       "        6.33895626,  9.02945687,  5.40840971,  1.21398192,  2.6744028 ,\n",
       "        3.35957213,  4.27105236,  4.476764  ,  5.79574139,  0.39117785,\n",
       "        3.72150743,  8.50855685,  0.89541335,  4.82880772,  5.43122291,\n",
       "        5.5132979 ,  5.98307151,  6.66443524,  2.7019759 ,  7.62644743,\n",
       "        5.48139999,  0.42799133,  6.20631222,  4.45424739,  5.23607393,\n",
       "        7.60977542,  2.04612552,  3.82232761,  7.49956124,  5.08573406,\n",
       "       10.40696976,  6.27443562,  1.72505218,  5.29692922,  2.94764955,\n",
       "        2.7206849 ,  3.67443581,  5.95091269,  4.08395619,  6.75962894,\n",
       "        5.33777621,  4.57673473,  5.4631203 ,  2.18025622,  7.17881828,\n",
       "        5.57244631,  5.62123266,  8.36070437,  6.26351282,  5.2577865 ,\n",
       "        2.91078875,  2.28892417,  4.84908698,  8.50515873,  6.18788427,\n",
       "        4.19468641,  3.68100401,  6.14948499,  4.82128707,  4.09165406,\n",
       "        3.26351391,  4.11794907,  3.20264869,  5.46402935,  6.42314848,\n",
       "        2.24601658,  7.15283702,  7.79494386,  5.03610594,  5.20516295,\n",
       "        3.10093389,  6.59024794,  2.17415012, -0.35339126,  1.72565838,\n",
       "        1.00082466,  8.57789894,  3.62181326,  6.57688014,  8.58701489,\n",
       "       -1.06125994,  5.44211484,  5.93796177,  2.61422583,  6.00798262,\n",
       "        4.57613964,  8.96114186,  3.99395709,  3.82378513,  4.22150603,\n",
       "        4.37639817,  5.41379362,  7.99103405,  5.99314025,  3.20195457,\n",
       "        9.2471032 ,  7.01624016,  7.65501285,  5.38372538,  5.15577495,\n",
       "        6.15906585,  1.15661316,  2.28850209,  8.66347485,  9.19733059,\n",
       "        6.04403332,  2.0165224 ,  5.39753081,  3.31047565,  5.41279342,\n",
       "        2.5603307 ,  1.9598748 ,  4.3051906 ,  6.40747829,  5.0698606 ,\n",
       "        4.27548792,  2.96061264,  5.48067603,  6.17115392,  2.96302429,\n",
       "       11.07444918,  6.20442358,  4.31277965,  5.07033829,  4.81682564,\n",
       "        6.72397184,  3.71129483,  1.3912461 ,  6.71498105,  2.79807219,\n",
       "        4.22149778,  4.94220225,  4.31247532,  0.6548696 ,  3.00389286,\n",
       "        9.79468757,  3.41317141,  4.05684333,  4.68219452,  7.69924227,\n",
       "        6.81520819,  8.10294348,  1.21685106,  1.74349778,  3.89245652,\n",
       "        2.8052286 ,  5.70453509,  2.14713046,  5.10725923,  4.39846086,\n",
       "        7.42204522,  8.18485928,  4.98976714,  5.85532177,  5.24587312,\n",
       "        2.61436344,  7.81810534,  5.40739858,  5.53733436,  6.14276897,\n",
       "        5.53030781,  4.3645914 ,  7.31067862,  9.15739737,  3.45934168,\n",
       "        3.49752295, 10.8455104 ,  9.76697511,  4.44706039,  3.41474811,\n",
       "        2.46885756,  1.21283123, -0.52506858,  2.17964056,  2.84685041,\n",
       "        9.7264687 ,  6.75662987,  3.35934453,  6.96678238,  1.83221807,\n",
       "        8.88471065,  2.65659879,  4.89532319,  8.62087578,  4.68982169,\n",
       "        4.92425577,  4.94652908,  3.80841005,  3.17202838,  2.05385514,\n",
       "        3.18299357,  6.64612792,  5.74471264,  0.60161851,  3.27201164,\n",
       "        3.52261589,  7.20410212,  5.20794199,  6.42226457,  5.14427377,\n",
       "        3.91146132,  4.27181206,  5.57810422,  5.6759631 ,  6.88287009,\n",
       "        3.50860497,  8.43546787,  6.92812603,  4.71451089,  3.11020933,\n",
       "        3.95431181,  6.25009757,  6.53369316,  4.59324908,  9.56478341,\n",
       "        8.2208944 ,  3.9392957 ,  3.88223   , 10.50432436,  8.60218955,\n",
       "        7.69486995,  2.51234285,  5.84548248,  6.1752461 ,  4.4220777 ,\n",
       "        2.58618905,  4.34020339,  4.65859343,  3.78428045,  9.13560938,\n",
       "        7.47374917,  2.73668062,  4.89973312,  4.00102127,  3.14983873,\n",
       "        5.15078357,  8.50802848,  5.6297249 ,  6.68703184,  1.54164731,\n",
       "        6.05659765,  4.1459433 ,  4.0555765 ,  3.26646895,  2.67603851,\n",
       "        4.41973112,  4.97223966,  7.58585111,  8.09016192,  7.56211519,\n",
       "        2.99580509,  6.90123865,  5.38141054,  5.30626204,  6.67700419,\n",
       "        1.5719771 ,  4.14296204,  4.84397085,  4.82133779,  8.54706541,\n",
       "        3.61731282,  7.4865035 ,  9.91293329,  4.23917315,  4.66901546,\n",
       "        3.84703015,  1.7453997 ,  5.88284024,  4.40805116, 10.57557143,\n",
       "        6.37668567, -1.97610756,  7.59103835,  4.7813727 , 10.30275368,\n",
       "        4.22412685,  4.63540439,  8.43361228,  5.99897012,  3.47973434,\n",
       "        2.23551399,  5.22851575, -1.99374968,  6.32561022,  8.94546504,\n",
       "        9.44557722,  4.47430143,  3.53058881,  0.91413565,  9.53987577,\n",
       "        2.51092492,  3.78820078,  5.14456132,  7.79225392,  1.26662392,\n",
       "        4.67357804,  3.56854792,  4.923095  ,  8.95042868, -0.33835004,\n",
       "        7.98541815,  3.61619737, 10.51080937, -1.45044351,  6.14310225,\n",
       "        3.90092363,  4.64937959,  7.300151  ,  7.4103381 ,  7.69151985,\n",
       "        4.20035452,  5.48074385,  5.87253363,  4.40710367,  5.03675102,\n",
       "        1.07482333,  6.79896516,  2.40088231,  0.37640342,  4.94699966,\n",
       "        6.52305206,  4.90792125,  4.11672508,  6.51189147,  6.3001816 ,\n",
       "        5.35038203,  8.05640979,  8.59807855,  4.92850267,  5.48627054,\n",
       "        4.9541931 ,  6.6395533 ,  1.21718257,  4.44450726,  6.39432568,\n",
       "        5.69482242,  2.59171936,  7.27234726,  6.36117828,  4.7178888 ,\n",
       "        5.33563168,  1.40132227,  6.45171167,  5.82504059,  7.25043608,\n",
       "        3.17513736,  4.24820176,  6.48586392, -0.35953136,  2.4210409 ,\n",
       "        5.56078771,  1.6495004 ,  1.97660876,  0.41885202, -0.27514407,\n",
       "        5.28524291,  5.15736382,  7.91151629,  3.01806363,  2.22712225,\n",
       "        6.87498953,  3.22282594,  5.52505629,  7.01491797,  5.81498158,\n",
       "       10.18909888,  3.6186992 ,  4.07182421,  9.36702751,  2.50735753,\n",
       "        3.347704  ,  6.52666614,  4.07286232,  1.18960427,  8.50797036,\n",
       "        4.80454261,  4.5440834 ,  6.77738222,  7.76889011,  2.46543473,\n",
       "        6.40690676,  4.46499361,  5.13471953,  5.00129373,  4.63737781,\n",
       "        7.04598729,  4.50006177,  8.10882019,  6.32324547,  3.43937445,\n",
       "        5.24412485,  5.18161433,  4.09184348,  2.17627291,  3.01613532,\n",
       "        3.64208048,  4.63851637,  1.75345489,  5.51647685,  5.8346121 ,\n",
       "        4.60331149,  2.3545967 ,  4.19141853,  6.70535194,  6.22452207,\n",
       "        2.28151565,  5.27407754,  8.18809329,  3.73580617,  3.90900742,\n",
       "        5.52316258,  4.23580947,  6.10125696,  0.89141728,  5.61737149,\n",
       "        5.90566616,  4.83308141,  6.42750473,  7.94598683,  7.11378478,\n",
       "        3.97478991,  5.90434094,  6.2714122 , 11.72869283, -0.30558122,\n",
       "        0.78866369,  3.78461975,  5.50080208,  3.57306713,  6.16458183,\n",
       "        9.03668473,  6.81747278,  5.45252666,  3.34157033,  3.77617387,\n",
       "        8.25716637,  6.65131509,  5.27149463, 12.35049776,  7.17351834,\n",
       "        2.68531037,  1.43109398,  5.47547459,  0.74777661,  6.84457194,\n",
       "        5.58621814,  5.22621125,  5.75724367,  4.03649342,  4.68802288,\n",
       "        3.32510759,  3.29494214,  4.13942869,  5.59002964,  5.47550628,\n",
       "        1.4072224 ,  4.21969808,  5.10343193,  6.39693563,  5.77589264,\n",
       "        3.31268377,  6.00828984,  3.48249752,  7.10735049,  4.88824637,\n",
       "        7.11575827,  4.6889799 ,  4.19288803,  5.95642375,  0.8907271 ,\n",
       "        4.61123937,  5.77341449,  0.21252706,  5.96425262,  4.28373241,\n",
       "        7.46470995,  4.35467724,  6.09223111,  5.60500928,  5.42578231,\n",
       "       10.65132597,  6.12051704, -1.73696238,  2.48733065,  0.76713029,\n",
       "        3.34874798,  6.16295265,  2.20290472,  5.32191145,  7.64575314,\n",
       "        1.78426566,  6.53813272,  8.96596942,  4.56030864,  7.9755936 ,\n",
       "        6.83055986,  3.92024341,  5.09072534,  4.87265541,  3.70683437,\n",
       "        3.90487478,  5.57389469,  4.81482409,  5.57097808,  3.82303793,\n",
       "        3.88361876,  5.46937286,  3.89573465,  7.79459572,  8.81790291,\n",
       "        5.63372412,  5.46745146,  3.45250808,  3.24467026,  1.88193989,\n",
       "       -0.09652532, -1.01819584,  2.90513121,  5.25800534,  2.37602684,\n",
       "        4.35240466,  4.66160933,  7.1346815 ,  6.21116302,  4.3790846 ,\n",
       "        5.47264941,  4.90324515,  9.70889444,  3.92361133,  6.4463948 ,\n",
       "        0.91060261,  7.85937039,  7.90803998,  9.57357148,  5.75094213,\n",
       "        6.45009703, 11.29002356,  3.00321362,  3.7716916 ,  9.26914527,\n",
       "        4.187709  ,  6.64195868,  6.30394533,  7.70079265,  5.87796136,\n",
       "        2.24915952,  2.53485119,  2.34880519,  3.63511526,  6.37452157,\n",
       "        8.19415094,  4.66361606,  2.32349883,  5.14523625,  6.81459925,\n",
       "        6.65488145,  3.25643609,  5.27897535,  9.73460382,  5.17458611,\n",
       "        5.81637652,  2.82398203,  6.14911704,  6.82391945,  5.92184933,\n",
       "        6.90743888,  5.63194266,  5.6583198 ,  5.75103568,  0.82239224,\n",
       "        4.89703968,  4.08407915,  6.69228502,  2.62461957,  1.87382119,\n",
       "        7.00768422,  2.94053099,  4.59672154,  3.45928232,  6.62021666,\n",
       "        8.14803687,  2.8290272 ,  3.01310055,  5.86658788,  5.59090774,\n",
       "        8.85137924,  8.05763978,  5.32983582, -0.54432922,  5.3705718 ,\n",
       "        7.16279316,  6.51709992,  7.0342008 ,  9.33400912,  4.86592804,\n",
       "        5.36604386, 10.29110831,  9.23016853,  2.41230079,  9.70302857,\n",
       "        0.9215422 ,  8.20632859,  5.61228431,  1.23190245,  5.71025378,\n",
       "        3.77431687,  7.57453356,  6.1089845 ,  8.40150293,  3.86667126,\n",
       "        8.35029296,  2.3625304 ,  2.18779541,  5.95485637,  7.60692564,\n",
       "        6.24171441,  8.59889298,  6.64655982,  8.72464866,  3.79869708,\n",
       "        4.68835579,  4.52990784,  6.72419878,  5.32401387,  5.05453488,\n",
       "        2.10642524,  3.44611891,  5.35192904,  6.75469372,  9.1466581 ,\n",
       "        4.82022631,  6.08902611,  3.918653  ,  6.30157397,  2.78852448,\n",
       "        4.8590558 ,  4.99024812,  7.00985997,  2.19287913,  1.69757246,\n",
       "        4.86847002,  5.70390332,  3.92229337,  4.38540437,  7.26306276,\n",
       "        2.23025195,  1.93445005,  5.05865106,  6.34774871,  6.15594725,\n",
       "        5.83158423,  4.5685363 ,  6.58276891,  2.65979977,  4.8751248 ,\n",
       "       10.42382313,  9.27767809,  2.78148088,  2.15013303,  4.04770274,\n",
       "        6.82717646,  6.98480119,  4.4921573 ,  6.3329305 ,  2.87558604,\n",
       "        7.96751147,  2.0818832 ,  8.62284191,  9.30713421,  3.82947189,\n",
       "        5.79191362,  7.46523892,  5.08074636,  4.70132479,  3.56325916,\n",
       "        6.58717917,  8.30486267,  7.79992438,  3.10894846,  8.93548574,\n",
       "        3.71823262,  4.0066622 ,  7.94864035,  5.29453447,  5.20669327,\n",
       "        2.61971739,  7.52376726,  9.38260416, -0.49145709,  8.83094063,\n",
       "        8.84571831,  5.89740743,  3.69862458,  6.47077886,  4.96161448,\n",
       "        3.71700338,  2.15046385,  2.6193792 ,  2.63291922,  2.63401346,\n",
       "        3.54827926,  5.35190339,  6.78414225, 10.68523496,  6.18525451,\n",
       "       -0.41895438, 11.81618872,  6.21558233,  9.14710589,  8.73028126,\n",
       "        5.99034851,  7.44903067,  3.75832826,  2.55572893,  7.99251372,\n",
       "        1.25827369,  4.04962199,  4.56578779,  3.90122141,  2.49171317,\n",
       "        2.56986632,  1.88594739,  6.03534238,  1.7214617 ,  8.85102664,\n",
       "        5.73223556,  3.94090895,  4.7901911 ,  6.19364814,  1.86240006,\n",
       "        5.18490808,  4.00094001,  5.37545725,  6.18968952,  8.70137944,\n",
       "        2.30923482,  4.24135044, -0.17331307,  7.26922369, 10.50944541,\n",
       "        6.32595534,  5.6695748 ,  0.01246956,  7.51234905,  5.09636987,\n",
       "        4.71510686,  3.38233781,  3.41254847,  6.61114172,  5.95261933,\n",
       "        1.82796908,  5.1054514 ,  5.18989758,  7.91876799,  6.69134558,\n",
       "        7.65218064,  5.73001159,  5.71725534,  6.97201086,  4.42375702,\n",
       "        3.19801624,  6.16714103,  3.18077887,  6.17666833,  6.00164735,\n",
       "        3.87632857,  8.12914198,  8.61290547,  6.44153819,  3.50100059,\n",
       "        6.93310507,  9.15870689,  5.99914593,  2.63446378,  2.98526353,\n",
       "       -0.30598107,  3.96467247,  5.81103636,  5.79799559,  6.30199012,\n",
       "        5.22473241,  7.86155053,  8.18494279,  3.06430069,  0.42500143,\n",
       "        5.93985528,  4.41421184, -0.23273155,  6.18936501,  6.47403165,\n",
       "        5.54983979,  4.76010006,  7.64585662,  5.49765869,  6.53063755,\n",
       "        4.59027834,  3.7968205 ,  6.23563378,  3.36410487,  6.79678201])"
      ]
     },
     "execution_count": 5,
     "metadata": {},
     "output_type": "execute_result"
    }
   ],
   "source": [
    "y"
   ]
  },
  {
   "cell_type": "code",
   "execution_count": 6,
   "metadata": {},
   "outputs": [
    {
     "data": {
      "text/plain": [
       "(1000,)"
      ]
     },
     "execution_count": 6,
     "metadata": {},
     "output_type": "execute_result"
    }
   ],
   "source": [
    "y.shape"
   ]
  },
  {
   "cell_type": "code",
   "execution_count": 7,
   "metadata": {
    "scrolled": true
   },
   "outputs": [
    {
     "data": {
      "text/plain": [
       "([array([  2.,  13.,  57., 149., 264., 299., 156.,  49.,   9.,   2.]),\n",
       "  array([  3.,  11.,  58., 148., 283., 300., 135.,  51.,  10.,   1.]),\n",
       "  array([  4.,  11.,  59., 159., 282., 275., 145.,  60.,   5.,   0.]),\n",
       "  array([  2.,  10.,  57., 170., 315., 244., 146.,  46.,  10.,   0.]),\n",
       "  array([  2.,   9.,  60., 178., 237., 292., 152.,  60.,   7.,   3.]),\n",
       "  array([  1.,  12.,  52., 191., 274., 261., 146.,  53.,   8.,   2.]),\n",
       "  array([  0.,   8.,  66., 159., 278., 279., 159.,  41.,   9.,   1.]),\n",
       "  array([  1.,  15.,  77., 156., 294., 261., 139.,  45.,  10.,   2.]),\n",
       "  array([  4.,   3.,  43., 158., 297., 320., 127.,  40.,   5.,   3.]),\n",
       "  array([  3.,   9.,  53., 186., 296., 250., 159.,  33.,   9.,   2.])],\n",
       " array([-3.75474532, -2.99210096, -2.2294566 , -1.46681224, -0.70416788,\n",
       "         0.05847647,  0.82112083,  1.58376519,  2.34640955,  3.10905391,\n",
       "         3.87169827]),\n",
       " <a list of 10 Lists of Patches objects>)"
      ]
     },
     "execution_count": 7,
     "metadata": {},
     "output_type": "execute_result"
    },
    {
     "data": {
      "image/png": "[encoded data removed]",
      "text/plain": [
       "<Figure size 432x288 with 1 Axes>"
      ]
     },
     "metadata": {
      "needs_background": "light"
     },
     "output_type": "display_data"
    }
   ],
   "source": [
    "plt.hist(X)"
   ]
  },
  {
   "cell_type": "code",
   "execution_count": 8,
   "metadata": {},
   "outputs": [
    {
     "data": {
      "text/plain": [
       "(array([  8.,  30.,  85., 151., 229., 249., 132.,  80.,  29.,   7.]),\n",
       " array([-1.99374968, -0.55932494,  0.87509981,  2.30952455,  3.7439493 ,\n",
       "         5.17837404,  6.61279879,  8.04722353,  9.48164828, 10.91607302,\n",
       "        12.35049776]),\n",
       " <a list of 10 Patch objects>)"
      ]
     },
     "execution_count": 8,
     "metadata": {},
     "output_type": "execute_result"
    },
    {
     "data": {
      "image/png": "[encoded data removed]",
      "text/plain": [
       "<Figure size 432x288 with 1 Axes>"
      ]
     },
     "metadata": {
      "needs_background": "light"
     },
     "output_type": "display_data"
    }
   ],
   "source": [
    "plt.hist(y)"
   ]
  },
  {
   "cell_type": "code",
   "execution_count": null,
   "metadata": {},
   "outputs": [],
   "source": []
  },
  {
   "cell_type": "code",
   "execution_count": 9,
   "metadata": {},
   "outputs": [
    {
     "name": "stdout",
     "output_type": "stream",
     "text": [
      "R-squared regression: 0.8426026033713112\n",
      "R-squared PLSR: 0.8426024905340752\n"
     ]
    },
    {
     "data": {
      "image/png": "[encoded data removed]",
      "text/plain": [
       "<Figure size 432x288 with 1 Axes>"
      ]
     },
     "metadata": {
      "needs_background": "light"
     },
     "output_type": "display_data"
    }
   ],
   "source": [
    "# Fit a linear model with all 10 features.\n",
    "regr = linear_model.LinearRegression()\n",
    "regr.fit(X, y)\n",
    "\n",
    "# Save predicted values.\n",
    "Y_pred = regr.predict(X)\n",
    "print('R-squared regression:', regr.score(X, y))\n",
    "\n",
    "# Fit a linear model using Partial Least Squares Regression.\n",
    "# Reduce feature space to 3 dimensions.\n",
    "pls1 = PLSRegression(n_components=3)\n",
    "\n",
    "# Reduce X to R(X) and regress on y.\n",
    "pls1.fit(X, y)\n",
    "\n",
    "# Save predicted values.\n",
    "Y_PLS_pred = pls1.predict(X)\n",
    "print('R-squared PLSR:', pls1.score(X, y))\n",
    "\n",
    "# Compare the predictions of the two models\n",
    "plt.scatter(Y_pred,Y_PLS_pred) \n",
    "plt.xlabel('Predicted by original 10 features')\n",
    "plt.ylabel('Predicted by 3 features')\n",
    "plt.title('Comparing LR and PLSR predictions')\n",
    "plt.show()"
   ]
  },
  {
   "cell_type": "markdown",
   "metadata": {},
   "source": [
    "PLSR will not work as well if features are uncorrelated, or if the only feature correlations are paired (feature 1 is only correlated with feature 2, feature 3 is only correlated with feature 4, etc).\n",
    "\n",
    "The trick to successful PLSR is to select the right number of components to keep.  Use the cell below to create new partial least square regressions with different numbers of components, then see how those changes affect the ability of your models to reproduce the predicted Y values as well as the regular linear regression.  Typically, you would choose your components based on the number that gives the most consistent performance between training and test datasets.\n",
    "\n",
    "Since this data is randomly generated, you can also play with it by changing how $y$ is computed, then observing how different relationships between $y$ and $X$ play out in PLSR."
   ]
  },
  {
   "cell_type": "code",
   "execution_count": 10,
   "metadata": {},
   "outputs": [
    {
     "data": {
      "image/png": "[encoded data removed]",
      "text/plain": [
       "<Figure size 864x648 with 2 Axes>"
      ]
     },
     "metadata": {
      "needs_background": "light"
     },
     "output_type": "display_data"
    }
   ],
   "source": [
    "# Your PLSR models here.\n",
    "#Number of datapoints in outcome\n",
    "num = 73\n",
    "\n",
    "#Number of features\n",
    "feat=21\n",
    "\n",
    "#Create random normally distributed data for parameters.\n",
    "X_ran = np.random.normal(size=num*feat).reshape((num,feat))\n",
    "\n",
    "#Create normally distributed outcome related to parameters but w/ noise.\n",
    "y_noise = X_ran[:, 0] + 2*X_ran[:, 1] + np.random.normal(size = num*1) + 5\n",
    "\n",
    "#Check out correlations. First column is the outcome.\n",
    "f, ax = plt.subplots(figsize=(12, 9))\n",
    "corrmat = pd.DataFrame(np.insert(X_ran, 0, y_noise, axis=1)).corr()\n",
    "\n",
    "#Draw the heatmap using the seaborn\n",
    "sns.heatmap(corrmat, vmax=.8, square = True)\n",
    "plt.show()\n",
    "\n"
   ]
  },
  {
   "cell_type": "code",
   "execution_count": 11,
   "metadata": {},
   "outputs": [
    {
     "name": "stdout",
     "output_type": "stream",
     "text": [
      "R-squared regression:  0.9189225483744583\n",
      "R-squared PLSR: 0.916349466962937\n"
     ]
    },
    {
     "data": {
      "image/png": "[encoded data removed]",
      "text/plain": [
       "<Figure size 432x288 with 1 Axes>"
      ]
     },
     "metadata": {
      "needs_background": "light"
     },
     "output_type": "display_data"
    }
   ],
   "source": [
    "# Fit a linear model with all 10 features.\n",
    "regr = linear_model.LinearRegression()\n",
    "regr.fit(X_ran, y_noise)\n",
    "\n",
    "#Save predicted values.\n",
    "Y_pred = regr.predict(X_ran)\n",
    "print('R-squared regression: ', regr.score(X_ran, y_noise))\n",
    "\n",
    "#Fit a linear model using Partial least Squares Regression.\n",
    "#Reduce feature space to 3 dimensions.\n",
    "pls1 = PLSRegression(n_components=3)\n",
    "\n",
    "#Reduce X to R(X) and regress on y.\n",
    "pls1.fit(X_ran, y_noise)\n",
    "\n",
    "#Save predicted values.\n",
    "Y_PLS_pred = pls1.predict(X_ran)\n",
    "print('R-squared PLSR:', pls1.score(X_ran, y_noise))\n",
    "\n",
    "#Comparing the predictions of the two models\n",
    "plt.scatter(Y_pred, Y_PLS_pred)\n",
    "plt.xlabel('PREDICTED BY ORIGINAL 10 FEATURES')\n",
    "plt.ylabel('PREDICTED BY 3 FEATURES')\n",
    "plt.title('COMPARINT LR AND PLSR PREDICTIONS')\n",
    "plt.show()"
   ]
  },
  {
   "cell_type": "code",
   "execution_count": 12,
   "metadata": {},
   "outputs": [
    {
     "data": {
      "text/plain": [
       "([array([ 0.,  0.,  1.,  3., 17., 26., 19.,  7.,  0.,  0.]),\n",
       "  array([ 0.,  1.,  0.,  7., 18., 26., 15.,  4.,  2.,  0.]),\n",
       "  array([ 1.,  0.,  0.,  6., 17., 24., 14.,  8.,  2.,  1.]),\n",
       "  array([ 0.,  0.,  2.,  5., 15., 20., 26.,  4.,  1.,  0.]),\n",
       "  array([ 1.,  0.,  0.,  9.,  5., 29., 23.,  6.,  0.,  0.]),\n",
       "  array([ 0.,  0.,  4.,  7., 16., 19., 15.,  9.,  2.,  1.]),\n",
       "  array([ 0.,  0.,  0.,  9., 15., 26., 15.,  7.,  1.,  0.]),\n",
       "  array([ 0.,  0.,  4.,  8., 21., 22., 11.,  6.,  1.,  0.]),\n",
       "  array([ 0.,  0.,  0.,  7., 20., 26., 14.,  5.,  1.,  0.]),\n",
       "  array([ 0.,  0.,  0.,  6., 18., 21., 17.,  8.,  2.,  1.]),\n",
       "  array([ 0.,  0.,  0., 12., 17., 22., 16.,  6.,  0.,  0.]),\n",
       "  array([ 0.,  0.,  0.,  5., 22., 29., 10.,  4.,  3.,  0.]),\n",
       "  array([ 0.,  0.,  2.,  8., 20., 21., 19.,  3.,  0.,  0.]),\n",
       "  array([ 0.,  0.,  2.,  5., 22., 18., 14., 10.,  2.,  0.]),\n",
       "  array([ 0.,  0.,  1.,  6., 17., 22., 20.,  5.,  1.,  1.]),\n",
       "  array([ 0.,  0.,  0.,  7., 22., 20., 14.,  9.,  1.,  0.]),\n",
       "  array([ 0.,  0.,  3.,  4., 27., 18., 14.,  6.,  0.,  1.]),\n",
       "  array([ 0.,  0.,  1.,  6., 17., 22., 18.,  8.,  1.,  0.]),\n",
       "  array([ 0.,  1.,  0.,  3., 15., 30., 21.,  3.,  0.,  0.]),\n",
       "  array([ 0.,  1.,  1.,  7., 17., 22., 18.,  5.,  2.,  0.]),\n",
       "  array([ 0.,  0.,  1.,  5., 22., 22., 19.,  3.,  1.,  0.])],\n",
       " array([-4.53566506, -3.70256944, -2.86947382, -2.03637821, -1.20328259,\n",
       "        -0.37018697,  0.46290864,  1.29600426,  2.12909988,  2.9621955 ,\n",
       "         3.79529111]),\n",
       " <a list of 21 Lists of Patches objects>)"
      ]
     },
     "execution_count": 12,
     "metadata": {},
     "output_type": "execute_result"
    },
    {
     "data": {
      "image/png": "[encoded data removed]",
      "text/plain": [
       "<Figure size 432x288 with 1 Axes>"
      ]
     },
     "metadata": {
      "needs_background": "light"
     },
     "output_type": "display_data"
    }
   ],
   "source": [
    "plt.hist(X_ran)"
   ]
  },
  {
   "cell_type": "code",
   "execution_count": 13,
   "metadata": {},
   "outputs": [
    {
     "data": {
      "text/plain": [
       "(array([ 5.,  5.,  9., 16., 15., 10.,  5.,  1.,  6.,  1.]),\n",
       " array([ 0.37234404,  1.51171631,  2.65108857,  3.79046084,  4.92983311,\n",
       "         6.06920537,  7.20857764,  8.3479499 ,  9.48732217, 10.62669443,\n",
       "        11.7660667 ]),\n",
       " <a list of 10 Patch objects>)"
      ]
     },
     "execution_count": 13,
     "metadata": {},
     "output_type": "execute_result"
    },
    {
     "data": {
      "image/png": "[encoded data removed]",
      "text/plain": [
       "<Figure size 432x288 with 1 Axes>"
      ]
     },
     "metadata": {
      "needs_background": "light"
     },
     "output_type": "display_data"
    }
   ],
   "source": [
    "plt.hist(y_noise)"
   ]
  },
  {
   "cell_type": "code",
   "execution_count": null,
   "metadata": {},
   "outputs": [],
   "source": []
  },
  {
   "cell_type": "code",
   "execution_count": null,
   "metadata": {},
   "outputs": [],
   "source": []
  }
 ],
 "metadata": {
  "hide_input": false,
  "kernelspec": {
   "display_name": "Python 3",
   "language": "python",
   "name": "python3"
  },
  "language_info": {
   "codemirror_mode": {
    "name": "ipython",
    "version": 3
   },
   "file_extension": ".py",
   "mimetype": "text/x-python",
   "name": "python",
   "nbconvert_exporter": "python",
   "pygments_lexer": "ipython3",
   "version": "3.7.1"
  },
  "toc": {
   "colors": {
    "hover_highlight": "#DAA520",
    "running_highlight": "#FF0000",
    "selected_highlight": "#FFD700"
   },
   "moveMenuLeft": true,
   "nav_menu": {
    "height": "41px",
    "width": "252px"
   },
   "navigate_menu": true,
   "number_sections": true,
   "sideBar": true,
   "threshold": 4,
   "toc_cell": false,
   "toc_section_display": "block",
   "toc_window_display": false
  }
 },
 "nbformat": 4,
 "nbformat_minor": 2
}

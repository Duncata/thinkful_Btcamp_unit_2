{
 "cells": [
  {
   "cell_type": "markdown",
   "metadata": {},
   "source": [
    "## TLADS Drill\n",
    "Categorize each of the variables in the ESS dataset as categorical or continuous, and if continuous as ordinal, interval, or ratio variables.\n",
    "\n",
    "* cntry - categorical\n",
    "* idno - continuous - ordinal\n",
    "* year - continuous - ratio\n",
    "* tvtot - continuous - ratio\n",
    "* ppltrst - continuous - ratio\n",
    "* pplfair - continuous - ratio\n",
    "* happy - continuous - ratio\n",
    "* sclmeet - continuous - ratio\n",
    "* sclact - continuous - ratio\n",
    "* gndr - categoriclal\n",
    "* agea - continuous - ratio\n",
    "* partner - categorical  "
   ]
  }
 ],
 "metadata": {
  "kernelspec": {
   "display_name": "Python 3",
   "language": "python",
   "name": "python3"
  },
  "language_info": {
   "codemirror_mode": {
    "name": "ipython",
    "version": 3
   },
   "file_extension": ".py",
   "mimetype": "text/x-python",
   "name": "python",
   "nbconvert_exporter": "python",
   "pygments_lexer": "ipython3",
   "version": "3.7.1"
  }
 },
 "nbformat": 4,
 "nbformat_minor": 2
}

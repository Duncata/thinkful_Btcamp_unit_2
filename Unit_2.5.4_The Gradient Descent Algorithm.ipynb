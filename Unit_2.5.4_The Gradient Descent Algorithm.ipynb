{
 "cells": [
  {
   "cell_type": "code",
   "execution_count": 1,
   "metadata": {
    "run_control": {
     "frozen": false,
     "read_only": false
    }
   },
   "outputs": [],
   "source": [
    "import warnings\n",
    "\n",
    "import numpy as np\n",
    "import matplotlib.pyplot as plt\n",
    "from sklearn import linear_model\n",
    "\n",
    "# Suppress annoying harmless error.\n",
    "warnings.filterwarnings(\n",
    "    action=\"ignore\",\n",
    "    module=\"scipy\",\n",
    "    message=\"^internal gelsd\"\n",
    ")"
   ]
  },
  {
   "cell_type": "markdown",
   "metadata": {
    "run_control": {
     "frozen": false,
     "read_only": false
    }
   },
   "source": [
    "So far when explaining how regression works, we've said that it finds the model of best fit by minimizing the squared distance between each datapoint and the line of fit.  Squaring the distance removes concerns about positive vs negative signs, and has a heavier penalty for larger distances.  \n",
    "\n",
    "The cost function for a linear regression model $y_i = \\alpha + \\beta x_i$ is:\n",
    "\n",
    "$$\\frac1{n}\\sum_{i=1}^n(y_i-(\\alpha + \\beta x_i))^2$$\n",
    "\n",
    "where $\\alpha + \\beta x_i$ is the prediction of the model $\\alpha + \\beta x$ for predictors $x_i$, $y_i$ is the actual outcome value, and $n$ is the number of distances being summed.\n",
    "\n",
    "For many linear regressions, the model is sufficiently simple that the true minimum of the cost function can be calculated by solving a system of equations.  However, many other models that we will encounter from this point forward are _too complex_ to be solved for a true minimum.  For those models it's useful to use an iterative algorithm that starts from a random set of parameters and slowly works toward optimizing the cost function.\n",
    "\n",
    "One such algorithm is **gradient descent**, which iteratively minimizes the cost function using derivatives.  This approach is robust and flexible, and can be applied to basically any differentiable function.\n",
    "\n",
    "Now we're going to get into the nuts-and-bolts of how gradient descent works (and what differentiable functions are). Hold on to your hats, we're gonna do some calculus!\n",
    "\n"
   ]
  },
  {
   "cell_type": "markdown",
   "metadata": {
    "run_control": {
     "frozen": false,
     "read_only": false
    }
   },
   "source": [
    "## Gradient Descent Algorithm\n",
    "\n",
    "After learning about PCA, you should be comfortable with the idea of data as a multi-dimensional space.  When optimizing a linear regression, the dimensions of the space correspond to the number of parameters in the equation, plus the error function we are trying to minimize.  So a model $y_i = \\alpha + \\beta x_i$ with two parameters would yield a three-dimensional space.  Within that space is a *surface* made up of all  possible combinations of parameter values, and the error values that result when we plug those parameters into the cost function.  (In a two-dimensional space, we have lines.  In three dimensions and higher, we have surfaces.)\n",
    "\n",
    "The gradient descent algorithm works iteratively by picking a location on the surface defined by a combination of parameter values, calculating the direction from that point with the steepest 'downhill' gradient, and then moving 'downhill' a set distance.  Then the algorithm picks up the new parameter values of that location on the surface, re-calculates the direction of 'downhill' and moves a set distance again.  The algorithm will repeat this until it finds a location on the surface where all possible gradients away from that location are \"uphill\": in other words, where all other possible combinations of parameters result in higher error values.  The parameter values that define the location at the lowest point of the space represent the \"optimized\" solution to the cost function, and are what the regression returns as a solution.\n",
    "\n",
    "The direction of \"downhill\" is determined by differentiating the cost function and taking the partial derivative of each parameter of the regression equation.  A function is \"differentiable\" if a derivative can be calculated at each value of the function.  A derivative, in turn, is a measure of how sensitive a quantity is to change in another quantity.  In other words, if there is a function $f$ that contains parameters $x$ and $y$, the partial derivative for $x$ (expressed as $\\frac{\\partial}{\\partial y}$) will tell us how much $y$ will change for each unit change in $x$.  We could also calculate $\\frac{\\partial}{\\partial x}$, to find out how much a one-unit change in $y$ will impact $x$.\n",
    "\n",
    "For our two-parameter regression line model, the derivatives are:\n",
    "\n",
    "$$\\frac{\\partial}{\\partial\\alpha} =\\frac2n \\sum_{i=1}^n - (y^i-(\\alpha + \\beta x_i) )$$\n",
    "\n",
    "$$\\frac{\\partial}{\\partial\\beta} =\\frac2n \\sum_{i=1}^n - x_i(y^i-(\\alpha + \\beta x_i))$$"
   ]
  },
  {
   "cell_type": "markdown",
   "metadata": {
    "run_control": {
     "frozen": false,
     "read_only": false
    }
   },
   "source": [
    "## Decision-points in Gradient Descent\n",
    "\n",
    "There are three elements of the gradient descent algorithm that require decisions on the part of the operator.  \n",
    "\n",
    "\n",
    "### What are the starting values of the parameters?   \n",
    "\n",
    "Many implementations will start by setting all parameters to zero.  However, this isn't a requirement of the algorithm, and sometimes other starting points may be desirable.\n",
    "\n",
    "\n",
    "### How far do we \"move downhill\" after each iteration?\n",
    "\n",
    "Also called the \"learning rate.\"  A too-small learning rate means the model will be computationally inefficient and take a long time to converge (stop).  A too-large learning rate can result in overshooting the target minimum, resulting in a model that _never_ converges.  Again, most algorithm implementations have pre-determined criteria for setting the learning rate, but these can also be set manually.\n",
    "\n",
    "\n",
    "### When do we stop?\n",
    "\n",
    "In the description above, it sounds like the model runs until it reaches the \"optimal\" solution.  In reality, this isn't computationally efficient.  As the gradient flattens out and we get closer and closer to the minimum value of the error, each iteration of the algorithm will result in a smaller and smaller change in the error.  This can get really slow.  Typically some \"minimal acceptable change\" is decided on a-priori – once the change in error from iteration n-1 to iteration n is smaller than the threshold, the algorithm stops.  To prevent an algorithm that never stops, there is usually also a maximum number of permitted iterations before the gradient stops, even if it hasn't achieved a change under the threshold."
   ]
  },
  {
   "cell_type": "markdown",
   "metadata": {},
   "source": [
    "## Guts of Gradient Descent\n",
    "\n",
    "Let's walk through programming a gradient descent algorithm in Python.  There are packages that will do this for you, but for now we'll try it from scratch."
   ]
  },
  {
   "cell_type": "code",
   "execution_count": 2,
   "metadata": {
    "run_control": {
     "frozen": false,
     "read_only": false
    }
   },
   "outputs": [
    {
     "name": "stdout",
     "output_type": "stream",
     "text": [
      "\n",
      "Coefficients from sklearn: \n",
      " [[2.02707896]]\n",
      "\n",
      "Intercept from sklearn: \n",
      " [0.47908136]\n",
      "\n",
      "Coefficients from gradient descent algorithm: \n",
      " 2.0270465889277207\n",
      "\n",
      "Intercept from gradient descent algorithm: \n",
      " 0.47906506309959446\n"
     ]
    },
    {
     "data": {
      "image/png": "[encoded data removed]",
      "text/plain": [
       "<Figure size 432x288 with 1 Axes>"
      ]
     },
     "metadata": {
      "needs_background": "light"
     },
     "output_type": "display_data"
    }
   ],
   "source": [
    "## Cost function for the linear regression that we will try to optimize.\n",
    "def LR_cost_function (alpha, beta, x, y):\n",
    "    '''Return the cost for a given line and data.\n",
    "    \n",
    "    Alpha and beta are the coeficients that describe the fit line line, while\n",
    "    x and y are lists or arrays with the x and y value of each data point.\n",
    "    '''\n",
    "    error = 0\n",
    "    n = len(x)\n",
    "    for i in range(n):\n",
    "        point_error = (y[i] - (alpha + beta * x[i])) ** 2\n",
    "        error += point_error\n",
    "    return error / n\n",
    "\n",
    "\n",
    "# Function we'll call each iteration (or step) of the gradient algorithm.\n",
    "def step (alpha_cur, beta_cur, learning_rate, x, y):\n",
    "    '''Move downhill from a current cost function to a new, more optimal one.'''\n",
    "    alpha = 0\n",
    "    beta = 0\n",
    "    n = len(x)\n",
    "    for i in range(n):\n",
    "        # Partial derivative of the intercept.\n",
    "        point_alpha = -(2 / n) * (y[i] - ((alpha_cur + beta_cur * x[i])))\n",
    "        alpha += point_alpha\n",
    "        \n",
    "        # Partial derivative of the slope.\n",
    "        point_beta = -(2 / n) * x[i] * (y[i] - ((alpha_cur + beta_cur * x[i])))\n",
    "        beta += point_beta\n",
    "        \n",
    "    new_alpha = alpha_cur - learning_rate * alpha \n",
    "    new_beta = beta_cur - learning_rate * beta\n",
    "    return [new_alpha, new_beta]\n",
    "\n",
    "# These constants correspond to the decision-points described above.\n",
    "# How many steps to take.\n",
    "stop = 1000\n",
    "\n",
    "# How far to move with each step.\n",
    "learning_rate = .005\n",
    "\n",
    "# Starting values for intercept and slope \n",
    "alpha_start = 0\n",
    "beta_start = 0\n",
    "\n",
    "# Time to make some data!\n",
    "x = np.random.normal(0, 1, 100)\n",
    "y = x * 2 + np.random.sample(100)\n",
    "\n",
    "# Fit an true minimum regression using solved equations.\n",
    "regr = linear_model.LinearRegression()\n",
    "regr.fit(x.reshape(-1, 1), y.reshape(-1, 1))\n",
    "\n",
    "print('\\nCoefficients from sklearn: \\n', regr.coef_)\n",
    "print('\\nIntercept from sklearn: \\n', regr.intercept_)\n",
    "\n",
    "\n",
    "# Now fit an iteratively optimized regression using your custom gradient\n",
    "# descent algorithm.\n",
    "\n",
    "# Storing each iteration to inspect later.\n",
    "all_error=[]\n",
    "\n",
    "# Provide starting values.\n",
    "alpha = alpha_start\n",
    "beta = beta_start\n",
    "\n",
    "#Run the algorithm.\n",
    "for iter in range(stop):\n",
    "    \n",
    "    # Take a step, assigning the results of our step function to feed into\n",
    "    # the next step.\n",
    "    alpha, beta = step(alpha, beta, learning_rate, x, y)\n",
    "    \n",
    "    # Calculate the error.\n",
    "    error = LR_cost_function(alpha, beta, x, y)\n",
    "    \n",
    "    # Store the error to instpect later.\n",
    "    all_error.append(error)\n",
    "\n",
    "    \n",
    "print('\\nCoefficients from gradient descent algorithm: \\n', beta)\n",
    "print('\\nIntercept from gradient descent algorithm: \\n', alpha)\n",
    "\n",
    "plt.plot(all_error, 'o', ms=.4)\n",
    "plt.xlabel('Iteration')\n",
    "plt.ylabel('Error')\n",
    "plt.title('Error scores for each iteration')\n",
    "plt.show()"
   ]
  },
  {
   "cell_type": "code",
   "execution_count": 3,
   "metadata": {
    "scrolled": true
   },
   "outputs": [
    {
     "data": {
      "text/plain": [
       "array([-0.91265444,  0.26726153,  0.92399039, -0.10370252,  1.70924223,\n",
       "        0.57731194,  0.12408374, -0.32761944, -1.00446816,  1.51627906,\n",
       "        0.62643321, -0.89083434, -0.93080349, -0.7076768 ,  0.06264026,\n",
       "        1.22850334, -1.26339517,  0.5795795 ,  0.2256326 , -1.17286658,\n",
       "        0.1574066 , -0.74896514,  0.50680589, -2.02500774, -0.25005202,\n",
       "        0.27494356,  0.46087288, -0.36420632,  0.33002063,  0.50488975,\n",
       "        0.60941053, -1.09751613, -0.63915546,  1.15432017,  0.4244567 ,\n",
       "        0.61351761,  0.65529893, -1.20484163, -0.37590466, -1.55307416,\n",
       "       -1.03892255,  0.4529123 , -0.38657952, -0.8002598 ,  1.90751878,\n",
       "       -0.07299438,  0.27572456,  0.34414081,  1.74980901,  0.55224299,\n",
       "       -0.34771848,  1.82622264,  1.54107346,  0.42851421,  0.00815229,\n",
       "       -0.66717438, -1.77704362,  0.50987519,  2.67586267, -1.16890098,\n",
       "       -1.41658566,  0.56274417,  0.60045659, -0.41237706, -1.42641452,\n",
       "        1.29684845, -0.15829661, -1.1493246 ,  1.8437386 ,  1.08818323,\n",
       "       -0.72335955, -0.01770912,  2.66676678, -0.73037197,  0.32124235,\n",
       "       -1.11182218,  0.08514571, -2.17444136, -0.78390949,  0.10469563,\n",
       "        1.26346646, -1.1657801 , -0.84287005,  1.45128528, -0.80789699,\n",
       "       -0.36046759,  0.25749989,  0.22748863,  0.03167013, -0.12252   ,\n",
       "        1.78921664,  1.6756913 , -2.00769604, -1.04989823, -0.53277428,\n",
       "       -0.8608185 ,  1.60269906, -1.4456015 , -0.98657566,  0.22677653])"
      ]
     },
     "execution_count": 3,
     "metadata": {},
     "output_type": "execute_result"
    }
   ],
   "source": [
    "x"
   ]
  },
  {
   "cell_type": "code",
   "execution_count": 4,
   "metadata": {
    "scrolled": true
   },
   "outputs": [
    {
     "data": {
      "text/plain": [
       "(100,)"
      ]
     },
     "execution_count": 4,
     "metadata": {},
     "output_type": "execute_result"
    }
   ],
   "source": [
    "x.shape"
   ]
  },
  {
   "cell_type": "code",
   "execution_count": 5,
   "metadata": {},
   "outputs": [
    {
     "data": {
      "text/plain": [
       "(100,)"
      ]
     },
     "execution_count": 5,
     "metadata": {},
     "output_type": "execute_result"
    }
   ],
   "source": [
    "y.shape"
   ]
  },
  {
   "cell_type": "code",
   "execution_count": 6,
   "metadata": {},
   "outputs": [
    {
     "data": {
      "text/plain": [
       "array([-1.20262743e+00,  8.56251196e-01,  2.59196061e+00,  6.85358874e-01,\n",
       "        3.54234739e+00,  1.85144450e+00,  4.29808621e-01, -3.28873001e-01,\n",
       "       -1.13667213e+00,  3.72667433e+00,  1.50076107e+00, -1.03846937e+00,\n",
       "       -1.22440566e+00, -1.29178987e+00,  2.63253122e-01,  3.45232172e+00,\n",
       "       -2.03063335e+00,  1.27820467e+00,  1.22291881e+00, -1.60063605e+00,\n",
       "        1.24140696e+00, -8.58329842e-01,  1.43954458e+00, -3.51326670e+00,\n",
       "       -2.07000085e-01,  8.31682130e-01,  1.41925584e+00, -6.72773826e-01,\n",
       "        1.23721063e+00,  1.83373933e+00,  1.42488785e+00, -1.84663767e+00,\n",
       "       -1.00541329e+00,  2.38201575e+00,  1.39642121e+00,  1.59539929e+00,\n",
       "        2.17184481e+00, -1.50217753e+00,  2.65289452e-03, -2.55333545e+00,\n",
       "       -1.24973662e+00,  1.27241552e+00, -1.14082399e-01, -1.17599706e+00,\n",
       "        4.32081865e+00,  4.84172994e-01,  9.97055055e-01,  1.59122372e+00,\n",
       "        4.10282214e+00,  1.26680441e+00, -1.81107392e-02,  4.33133675e+00,\n",
       "        3.82515604e+00,  1.10950794e+00,  1.67055931e-01, -1.03396753e+00,\n",
       "       -3.43889241e+00,  1.41535247e+00,  5.93648885e+00, -2.00117114e+00,\n",
       "       -2.73670145e+00,  1.88945062e+00,  1.92444102e+00,  5.23744039e-02,\n",
       "       -2.66004152e+00,  2.88205593e+00, -2.86666558e-01, -1.84033917e+00,\n",
       "        4.26186926e+00,  2.21757542e+00, -5.45973449e-01,  4.46169541e-01,\n",
       "        6.00986344e+00, -8.29199661e-01,  1.13990694e+00, -2.19898669e+00,\n",
       "        6.31829093e-01, -4.02653417e+00, -1.56019684e+00,  2.51266104e-01,\n",
       "        3.33603957e+00, -2.01059049e+00, -1.63862588e+00,  3.53827974e+00,\n",
       "       -7.85671776e-01, -4.50522687e-01,  1.28650548e+00,  9.09015722e-01,\n",
       "        1.83041699e-01,  6.50154805e-01,  4.27218204e+00,  3.93788330e+00,\n",
       "       -3.15507647e+00, -2.06278031e+00, -5.09780156e-01, -1.62592067e+00,\n",
       "        3.30086711e+00, -2.22980445e+00, -1.65896777e+00,  1.02974166e+00])"
      ]
     },
     "execution_count": 6,
     "metadata": {},
     "output_type": "execute_result"
    }
   ],
   "source": [
    "y"
   ]
  },
  {
   "cell_type": "code",
   "execution_count": null,
   "metadata": {},
   "outputs": [],
   "source": []
  },
  {
   "cell_type": "code",
   "execution_count": null,
   "metadata": {},
   "outputs": [],
   "source": []
  },
  {
   "cell_type": "markdown",
   "metadata": {
    "run_control": {
     "frozen": false,
     "read_only": false
    }
   },
   "source": [
    "## Things Get Messy\n",
    "\n",
    "Linear regression is a good way to introduce the gradient descent algorithm because there is only one minimum – one absolute best solution.  In other algorithms, however, there may be both a global minimum (the lowest possible value over the entire surface) and many local minima, areas on the surface that are lower than the surface around them.\n",
    "\n",
    "![local and global minima and maxima](assets/maxima_and_minima.svg)\n",
    "\n",
    "When using the gradient descent algorithm with models that have local minima the algorithm can get 'caught' in one and converge on a less-than-optimal solution.  One way to avoid this is to run the algorithm multiple times with different starting values.\n",
    "\n",
    "Still a bit confused? [This](http://www.kdnuggets.com/2017/04/simple-understand-gradient-descent-algorithm.html) is a useful resource for another explanation.\n",
    "\n",
    "## Stopping rules\n",
    "\n",
    "In the implementation programmed above, the only stopping rule involves the number of iterations.  As you can see from the plot above, this might be a bit inefficient in this case.  Modify the code above by adding a stopping threshold so that the algorithm stops when the difference in error between two successive iterations is less than .001.  With that rule, how many iterations do you need before you stop?"
   ]
  },
  {
   "cell_type": "code",
   "execution_count": 7,
   "metadata": {},
   "outputs": [
    {
     "name": "stdout",
     "output_type": "stream",
     "text": [
      "\n",
      "NUMBER OF ITERATIONS BEFORE ERROR < 0.001: \n",
      " 2000\n",
      "\n",
      "COEFFICIENT FROM GRADIENT DESCENT ALGORITHM: \n",
      " 2.027078960083119\n",
      "\n",
      "INTERCEPT FROM GRADIENT DESCENT ALGORITHM: \n",
      " 0.47908136307407073\n"
     ]
    },
    {
     "data": {
      "image/png": "[encoded data removed]",
      "text/plain": [
       "<Figure size 432x288 with 1 Axes>"
      ]
     },
     "metadata": {
      "needs_background": "light"
     },
     "output_type": "display_data"
    }
   ],
   "source": [
    "# Your gradient descent algorithm with stopping threshold here.\n",
    "\n",
    "#RUN THE ALGORITHM\n",
    "for iter in range(stop):\n",
    "    alpha, beta = step(alpha, beta, learning_rate, x, y)\n",
    "    error = LR_cost_function(alpha, beta, x, y)\n",
    "    all_error.append(error)\n",
    "    \n",
    "    if error < 0.001:\n",
    "        iter = stop\n",
    "        \n",
    "print('\\nNUMBER OF ITERATIONS BEFORE ERROR < 0.001: \\n', len(all_error))\n",
    "print('\\nCOEFFICIENT FROM GRADIENT DESCENT ALGORITHM: \\n', beta)\n",
    "print('\\nINTERCEPT FROM GRADIENT DESCENT ALGORITHM: \\n', alpha)\n",
    "\n",
    "plt.plot(all_error, 'X', ms = .8)\n",
    "plt.xlabel('ITERATION')\n",
    "plt.ylabel('ERROR')\n",
    "plt.title('ERROR SCORE FOR EACH ITERATION')\n",
    "plt.show()"
   ]
  },
  {
   "cell_type": "code",
   "execution_count": 8,
   "metadata": {},
   "outputs": [
    {
     "name": "stdout",
     "output_type": "stream",
     "text": [
      "\n",
      "NUMBER OF ITERATIONS BEFORE ERROR < 0.001: \n",
      " 3000\n",
      "\n",
      "COEFFICIENT FROM GRADIENT DESCENT ALGORITHM: \n",
      " 2.027078960581159\n",
      "\n",
      "INTERCEPT FROM GRADIENT DESCENT ALGORITHM: \n",
      " 0.4790813637086468\n"
     ]
    },
    {
     "data": {
      "image/png": "[encoded data removed]",
      "text/plain": [
       "<Figure size 432x288 with 1 Axes>"
      ]
     },
     "metadata": {
      "needs_background": "light"
     },
     "output_type": "display_data"
    }
   ],
   "source": [
    "# Your gradient descent algorithm with stopping threshold here.\n",
    "\n",
    "# Stop should equal CASE WHEN error_difference < .001\n",
    "\n",
    "#RUN THE ALGORITHM\n",
    "for iter in range(stop):\n",
    "    alpha, beta = step(alpha, beta, learning_rate, x, y)\n",
    "    error = LR_cost_function(alpha, beta, x, y)\n",
    "    all_error.append(error)\n",
    "    \n",
    "    if error < 0.001:\n",
    "        iter = stop\n",
    "        \n",
    "print('\\nNUMBER OF ITERATIONS BEFORE ERROR < 0.001: \\n', len(all_error))\n",
    "print('\\nCOEFFICIENT FROM GRADIENT DESCENT ALGORITHM: \\n', beta)\n",
    "print('\\nINTERCEPT FROM GRADIENT DESCENT ALGORITHM: \\n', alpha)\n",
    "\n",
    "plt.plot(all_error, 'X', ms = .8)\n",
    "plt.xlabel('ITERATION')\n",
    "plt.ylabel('ERROR')\n",
    "plt.title('ERROR SCORE FOR EACH ITERATION')\n",
    "plt.show()"
   ]
  },
  {
   "cell_type": "code",
   "execution_count": null,
   "metadata": {},
   "outputs": [],
   "source": []
  }
 ],
 "metadata": {
  "hide_input": false,
  "kernelspec": {
   "display_name": "Python 3",
   "language": "python",
   "name": "python3"
  },
  "language_info": {
   "codemirror_mode": {
    "name": "ipython",
    "version": 3
   },
   "file_extension": ".py",
   "mimetype": "text/x-python",
   "name": "python",
   "nbconvert_exporter": "python",
   "pygments_lexer": "ipython3",
   "version": "3.7.1"
  },
  "toc": {
   "colors": {
    "hover_highlight": "#DAA520",
    "running_highlight": "#FF0000",
    "selected_highlight": "#FFD700"
   },
   "moveMenuLeft": true,
   "nav_menu": {
    "height": "105px",
    "width": "252px"
   },
   "navigate_menu": true,
   "number_sections": true,
   "sideBar": true,
   "threshold": 4,
   "toc_cell": false,
   "toc_section_display": "block",
   "toc_window_display": false
  }
 },
 "nbformat": 4,
 "nbformat_minor": 2
}
